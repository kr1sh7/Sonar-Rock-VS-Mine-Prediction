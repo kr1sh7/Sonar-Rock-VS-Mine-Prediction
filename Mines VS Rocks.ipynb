{
  "cells": [
    {
      "cell_type": "markdown",
      "metadata": {
        "id": "TbQOj9ecVM7a"
      },
      "source": [
        "Importing dependencies"
      ]
    },
    {
      "cell_type": "code",
      "execution_count": null,
      "metadata": {
        "id": "28nwk2NC85Al"
      },
      "outputs": [],
      "source": [
        "import numpy as np\n",
        "import pandas as pd\n",
        "from sklearn.model_selection import train_test_split\n",
        "from sklearn.linear_model import LogisticRegression\n",
        "from sklearn.metrics import accuracy_score"
      ]
    },
    {
      "cell_type": "markdown",
      "metadata": {
        "id": "k1pSYWTFVqZg"
      },
      "source": [
        "Data collection and Data processing"
      ]
    },
    {
      "cell_type": "code",
      "execution_count": null,
      "metadata": {
        "id": "Gx9qfobeVTaX"
      },
      "outputs": [],
      "source": [
        "#loading the dataset to pandas dataframe\n",
        "sonar_data = pd.read_csv('/content/Sonar data.csv', header=None)"
      ]
    },
    {
      "cell_type": "code",
      "execution_count": null,
      "metadata": {
        "colab": {
          "base_uri": "https://localhost:8080/",
          "height": 255
        },
        "id": "yoST-bdSWpfQ",
        "outputId": "610b72a7-663e-4b49-99c2-8c01c8162b52"
      },
      "outputs": [],
      "source": [
        "sonar_data.head()"
      ]
    },
    {
      "cell_type": "code",
      "execution_count": null,
      "metadata": {
        "colab": {
          "base_uri": "https://localhost:8080/"
        },
        "id": "KXICtLkjW_Nh",
        "outputId": "309eece3-c709-43ae-9a0b-151eecd8de04"
      },
      "outputs": [],
      "source": [
        "#number of rows and colums\n",
        "sonar_data.shape"
      ]
    },
    {
      "cell_type": "code",
      "execution_count": null,
      "metadata": {
        "colab": {
          "base_uri": "https://localhost:8080/",
          "height": 349
        },
        "id": "krtWOpgQXQ5g",
        "outputId": "cd160731-5e4d-4df1-a66b-c04571381979"
      },
      "outputs": [],
      "source": [
        "sonar_data.describe()"
      ]
    },
    {
      "cell_type": "code",
      "execution_count": null,
      "metadata": {
        "colab": {
          "base_uri": "https://localhost:8080/",
          "height": 178
        },
        "id": "unOo6yeTY884",
        "outputId": "bf1b8892-ea2b-4d8f-8480-1e339b8f614e"
      },
      "outputs": [],
      "source": [
        "sonar_data[60].value_counts() #value count of mines and rocks"
      ]
    },
    {
      "cell_type": "code",
      "execution_count": null,
      "metadata": {
        "colab": {
          "base_uri": "https://localhost:8080/",
          "height": 193
        },
        "id": "1dhsRSWAZdpq",
        "outputId": "0262329a-0eb6-4142-d54e-08866e1823f1"
      },
      "outputs": [],
      "source": [
        "sonar_data.groupby(60).mean()"
      ]
    },
    {
      "cell_type": "code",
      "execution_count": null,
      "metadata": {
        "id": "G9UEVltucTvs"
      },
      "outputs": [],
      "source": [
        "#separating data and label\n",
        "X = sonar_data.drop(columns=60, axis=1)\n",
        "Y = sonar_data[60]"
      ]
    },
    {
      "cell_type": "code",
      "execution_count": null,
      "metadata": {
        "colab": {
          "base_uri": "https://localhost:8080/"
        },
        "id": "j1sgpnxHcxfL",
        "outputId": "b4cc9f0c-6232-44a7-e0df-3d00ddbc5ae5"
      },
      "outputs": [],
      "source": [
        "print(X)\n",
        "print(Y)"
      ]
    },
    {
      "cell_type": "markdown",
      "metadata": {
        "id": "m_l4SMbAc8Ch"
      },
      "source": [
        "Training and Test data"
      ]
    },
    {
      "cell_type": "code",
      "execution_count": null,
      "metadata": {
        "id": "K1h33Wtuc_yY"
      },
      "outputs": [],
      "source": [
        "X_train, X_test, Y_train, Y_test = train_test_split(X,Y, test_size = 0.1, stratify = Y, random_state = 1)"
      ]
    },
    {
      "cell_type": "code",
      "execution_count": null,
      "metadata": {
        "colab": {
          "base_uri": "https://localhost:8080/"
        },
        "id": "e87UqrIpg46O",
        "outputId": "bcc66cb5-68a8-4441-a6fb-2654c180145d"
      },
      "outputs": [],
      "source": [
        "print(X.shape, X_test.shape, X_train.shape)"
      ]
    },
    {
      "cell_type": "code",
      "execution_count": null,
      "metadata": {
        "colab": {
          "base_uri": "https://localhost:8080/"
        },
        "id": "Xx8Is2NXiB4b",
        "outputId": "6ff6a65e-9afe-4887-8f2c-9523cd89e846"
      },
      "outputs": [],
      "source": [
        "print(X_train)\n",
        "print(Y_train)"
      ]
    },
    {
      "cell_type": "markdown",
      "metadata": {
        "id": "Jy6-kaEthKOe"
      },
      "source": [
        "Model Training -> Logistic Regresion model\n",
        "\n"
      ]
    },
    {
      "cell_type": "code",
      "execution_count": null,
      "metadata": {
        "id": "TLrHWpgzhNMM"
      },
      "outputs": [],
      "source": [
        "model = LogisticRegression()"
      ]
    },
    {
      "cell_type": "code",
      "execution_count": null,
      "metadata": {
        "colab": {
          "base_uri": "https://localhost:8080/",
          "height": 80
        },
        "id": "7F2MYBh9hjQJ",
        "outputId": "caaa2f9b-a896-438b-d000-17bb77c94cb3"
      },
      "outputs": [],
      "source": [
        "#training the Logistic Regression model with training data\n",
        "model.fit(X_train, Y_train)"
      ]
    },
    {
      "cell_type": "markdown",
      "metadata": {
        "id": "aCKE506sio8J"
      },
      "source": [
        "Model evaluation"
      ]
    },
    {
      "cell_type": "code",
      "execution_count": null,
      "metadata": {
        "id": "Vh0r3ASYikHq"
      },
      "outputs": [],
      "source": [
        "#accuracy on trainining data\n",
        "X_train_prediction = model.predict(X_train)\n",
        "training_data_accuracy = accuracy_score(X_train_prediction, Y_train)"
      ]
    },
    {
      "cell_type": "code",
      "execution_count": null,
      "metadata": {
        "colab": {
          "base_uri": "https://localhost:8080/"
        },
        "id": "6KT7gUWEsN4-",
        "outputId": "18abb471-cd0b-4e96-fccf-7b186236ff62"
      },
      "outputs": [],
      "source": [
        "print('Accuracy Score on training data:' ,training_data_accuracy)"
      ]
    },
    {
      "cell_type": "code",
      "execution_count": null,
      "metadata": {
        "id": "QB5ovMZxtDy6"
      },
      "outputs": [],
      "source": [
        "#accuracy on test data\n",
        "X_test_prediction = model.predict(X_test)\n",
        "test_data_accuracy = accuracy_score(X_test_prediction, Y_test)"
      ]
    },
    {
      "cell_type": "code",
      "execution_count": null,
      "metadata": {
        "colab": {
          "base_uri": "https://localhost:8080/"
        },
        "id": "_nEmmu5fs5WC",
        "outputId": "378b5bd7-2b92-48c1-8238-312ea0f136ed"
      },
      "outputs": [],
      "source": [
        "print('Accuracy Score on test data:' ,test_data_accuracy)"
      ]
    },
    {
      "cell_type": "markdown",
      "metadata": {
        "id": "maydqDt0teNv"
      },
      "source": [
        "Making a predictive system"
      ]
    },
    {
      "cell_type": "code",
      "execution_count": null,
      "metadata": {
        "colab": {
          "base_uri": "https://localhost:8080/"
        },
        "id": "R1aRvHO5thJU",
        "outputId": "be785247-7442-4fb0-e494-92c3709ad103"
      },
      "outputs": [],
      "source": [
        "input_data = ()\n",
        "#changing input data to numpy array\n",
        "input_data_as_numpy_array = np.asarray(input_data)\n",
        "\n",
        "#reshape the np array as we are predicting for one instance\n",
        "input_data_reshaped = input_data_as_numpy_array.reshape(1,-1)\n",
        "\n",
        "prediction = model.predict(input_data_reshaped)\n",
        "print(prediction)\n",
        "if(prediction[0] == 'R'):\n",
        "  print('The object is a Rock')\n",
        "else:\n",
        "  print('The object is Mine')"
      ]
    }
  ],
  "metadata": {
    "colab": {
      "provenance": []
    },
    "kernelspec": {
      "display_name": "base",
      "language": "python",
      "name": "python3"
    },
    "language_info": {
      "name": "python",
      "version": "3.12.6"
    }
  },
  "nbformat": 4,
  "nbformat_minor": 0
}
